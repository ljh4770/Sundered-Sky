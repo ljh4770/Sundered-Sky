{
 "cells": [
  {
   "cell_type": "markdown",
   "metadata": {},
   "source": [
    "분석에 필요한 패키지를 불러옵니다."
   ]
  },
  {
   "cell_type": "code",
   "execution_count": 4,
   "metadata": {},
   "outputs": [],
   "source": [
    "import numpy as np\n",
    "import pandas as pd"
   ]
  },
  {
   "cell_type": "markdown",
   "metadata": {},
   "source": [
    "원본 데이터를 불러옵니다."
   ]
  },
  {
   "cell_type": "code",
   "execution_count": 5,
   "metadata": {},
   "outputs": [],
   "source": [
    "fog_train = pd.read_csv('../data/fog_train.csv')\n",
    "fog_test = pd.read_csv('../data/fog_test.csv')"
   ]
  },
  {
   "cell_type": "markdown",
   "metadata": {},
   "source": [
    "편의를 위해 train과 test 열 이름을 통일합니다.<br>\n",
    "예측 및 제출 시 원본데이터의 열이름을 다시 적용합니다."
   ]
  },
  {
   "cell_type": "code",
   "execution_count": 6,
   "metadata": {},
   "outputs": [],
   "source": [
    "# 열 이름 앞의 접미사를 제거하는 함수\n",
    "def remove_prefix(df: pd.DataFrame, prefix: str) -> pd.DataFrame:\n",
    "    # prefix: \"fog_train.\" , \"fog_test.\"\n",
    "    res_list = [] # 접미사가 제거된 열이름을 담는 리스트\n",
    "    n = len(prefix) # 제거될 접미사의 길이\n",
    "\n",
    "    for col in df.columns:\n",
    "        if prefix == col[:n]: # 열 이름에 접미사가 있는지 파악\n",
    "            res_list.append(col[n:]) # 접미사가 제거된 열이름 저장\n",
    "        else:\n",
    "            res_list.append(col) # 접미사가 없으므로 그대로 열이름 저장\n",
    "\n",
    "    df.columns = res_list # 열 이름을 변경\n",
    "\n",
    "    return df\n",
    "\n",
    "train_data = remove_prefix(fog_train, \"fog_train.\")\n",
    "test_data = remove_prefix(fog_test, \"fog_test.\")"
   ]
  },
  {
   "cell_type": "code",
   "execution_count": 7,
   "metadata": {},
   "outputs": [
    {
     "name": "stdout",
     "output_type": "stream",
     "text": [
      "Index(['year', 'month', 'day', 'time', 'minute', 'stn_id', 'ws10_deg',\n",
      "       'ws10_ms', 'ta', 're', 'hm', 'sun10', 'ts', 'vis1', 'class'],\n",
      "      dtype='object')\n",
      "Index(['year', 'month', 'day', 'time', 'minute', 'stn_id', 'ws10_deg',\n",
      "       'ws10_ms', 'ta', 're', 'hm', 'sun10', 'ts', 'class'],\n",
      "      dtype='object')\n"
     ]
    }
   ],
   "source": [
    "# 결과 확인\n",
    "print(train_data.columns)\n",
    "print(test_data.columns)"
   ]
  },
  {
   "cell_type": "markdown",
   "metadata": {},
   "source": [
    "-99.9, -99가 결측치 표시라고 판단하여 결측치(NaN)로 대체했습니다."
   ]
  },
  {
   "cell_type": "code",
   "execution_count": 8,
   "metadata": {},
   "outputs": [],
   "source": [
    "def convert_nan(x):\n",
    "    if x == -99 or x == -99.9:\n",
    "        return np.nan\n",
    "    return x\n",
    "for col in train_data.columns:\n",
    "    train_data[col] = train_data[col].apply(convert_nan)"
   ]
  },
  {
   "cell_type": "markdown",
   "metadata": {},
   "source": [
    "지역 구분을 위해 stn_id를 첫 번째 글자(FirstLetter)와 두 번째 글자(SecondLetter)로 구분하여 열로 지정했습니다."
   ]
  },
  {
   "cell_type": "code",
   "execution_count": 9,
   "metadata": {},
   "outputs": [],
   "source": [
    "def gen_first_letter(stn):\n",
    "    return stn[0]\n",
    "def gen_second_letter(stn):\n",
    "    return stn[1]\n",
    "\n",
    "train_data['FirstLetter'] = train_data['stn_id'].apply(gen_first_letter)\n",
    "train_data['SecondLetter'] = train_data['stn_id'].apply(gen_second_letter)\n",
    "test_data['FirstLetter'] = test_data['stn_id'].apply(gen_first_letter)\n",
    "test_data['SecondLetter'] = test_data['stn_id'].apply(gen_second_letter)"
   ]
  },
  {
   "cell_type": "code",
   "execution_count": 10,
   "metadata": {},
   "outputs": [],
   "source": [
    "# 편의를 위해 stn_id 다음으로 FirstLetter, SecondLetter가 올 수 있게 열 순서를 변경\n",
    "train_data = train_data[['year', 'month', 'day', 'time', 'minute', 'stn_id', 'FirstLetter', 'SecondLetter',\n",
    "                         'ws10_deg', 'ws10_ms', 'ta', 're', 'hm', 'sun10', 'ts', 'vis1', 'class']]\n",
    "test_data = test_data[['year', 'month', 'day', 'time', 'minute', 'stn_id', 'FirstLetter', 'SecondLetter',\n",
    "                       'ws10_deg', 'ws10_ms', 'ta', 're', 'hm', 'sun10', 'ts', 'class', ]]"
   ]
  },
  {
   "cell_type": "markdown",
   "metadata": {},
   "source": [
    "sun10 변수의 이상치를 처리합니다<br>\n",
    "1. sun10의 값이 1 이상인 경우 결측치로 대체<br>\n",
    "2. 야간(20:00 ~ 05:00)에 sun10의 값이 0이 아닌 경우 0으로 대체"
   ]
  },
  {
   "cell_type": "code",
   "execution_count": 11,
   "metadata": {},
   "outputs": [
    {
     "data": {
      "text/html": [
       "<div>\n",
       "<style scoped>\n",
       "    .dataframe tbody tr th:only-of-type {\n",
       "        vertical-align: middle;\n",
       "    }\n",
       "\n",
       "    .dataframe tbody tr th {\n",
       "        vertical-align: top;\n",
       "    }\n",
       "\n",
       "    .dataframe thead th {\n",
       "        text-align: right;\n",
       "    }\n",
       "</style>\n",
       "<table border=\"1\" class=\"dataframe\">\n",
       "  <thead>\n",
       "    <tr style=\"text-align: right;\">\n",
       "      <th></th>\n",
       "      <th>year</th>\n",
       "      <th>month</th>\n",
       "      <th>day</th>\n",
       "      <th>time</th>\n",
       "      <th>minute</th>\n",
       "      <th>stn_id</th>\n",
       "      <th>FirstLetter</th>\n",
       "      <th>SecondLetter</th>\n",
       "      <th>ws10_deg</th>\n",
       "      <th>ws10_ms</th>\n",
       "      <th>ta</th>\n",
       "      <th>re</th>\n",
       "      <th>hm</th>\n",
       "      <th>sun10</th>\n",
       "      <th>ts</th>\n",
       "      <th>vis1</th>\n",
       "      <th>class</th>\n",
       "    </tr>\n",
       "  </thead>\n",
       "  <tbody>\n",
       "    <tr>\n",
       "      <th>904125</th>\n",
       "      <td>I</td>\n",
       "      <td>2</td>\n",
       "      <td>26</td>\n",
       "      <td>18</td>\n",
       "      <td>30</td>\n",
       "      <td>EA</td>\n",
       "      <td>E</td>\n",
       "      <td>A</td>\n",
       "      <td>79.9</td>\n",
       "      <td>2.9</td>\n",
       "      <td>9.8</td>\n",
       "      <td>0.0</td>\n",
       "      <td>76.7</td>\n",
       "      <td>9.63</td>\n",
       "      <td>10.3</td>\n",
       "      <td>19537.0</td>\n",
       "      <td>4.0</td>\n",
       "    </tr>\n",
       "    <tr>\n",
       "      <th>1255059</th>\n",
       "      <td>J</td>\n",
       "      <td>10</td>\n",
       "      <td>28</td>\n",
       "      <td>19</td>\n",
       "      <td>50</td>\n",
       "      <td>AD</td>\n",
       "      <td>A</td>\n",
       "      <td>D</td>\n",
       "      <td>19.1</td>\n",
       "      <td>1.2</td>\n",
       "      <td>12.2</td>\n",
       "      <td>0.0</td>\n",
       "      <td>66.9</td>\n",
       "      <td>26.87</td>\n",
       "      <td>9.7</td>\n",
       "      <td>24294.0</td>\n",
       "      <td>4.0</td>\n",
       "    </tr>\n",
       "    <tr>\n",
       "      <th>1494527</th>\n",
       "      <td>J</td>\n",
       "      <td>5</td>\n",
       "      <td>19</td>\n",
       "      <td>19</td>\n",
       "      <td>10</td>\n",
       "      <td>BA</td>\n",
       "      <td>B</td>\n",
       "      <td>A</td>\n",
       "      <td>135.1</td>\n",
       "      <td>0.8</td>\n",
       "      <td>21.7</td>\n",
       "      <td>0.0</td>\n",
       "      <td>66.4</td>\n",
       "      <td>14.98</td>\n",
       "      <td>22.2</td>\n",
       "      <td>31400.0</td>\n",
       "      <td>4.0</td>\n",
       "    </tr>\n",
       "    <tr>\n",
       "      <th>1521613</th>\n",
       "      <td>J</td>\n",
       "      <td>11</td>\n",
       "      <td>23</td>\n",
       "      <td>21</td>\n",
       "      <td>30</td>\n",
       "      <td>BA</td>\n",
       "      <td>B</td>\n",
       "      <td>A</td>\n",
       "      <td>310.0</td>\n",
       "      <td>4.2</td>\n",
       "      <td>1.3</td>\n",
       "      <td>0.0</td>\n",
       "      <td>61.2</td>\n",
       "      <td>5.76</td>\n",
       "      <td>1.2</td>\n",
       "      <td>50000.0</td>\n",
       "      <td>4.0</td>\n",
       "    </tr>\n",
       "    <tr>\n",
       "      <th>1718046</th>\n",
       "      <td>J</td>\n",
       "      <td>8</td>\n",
       "      <td>20</td>\n",
       "      <td>0</td>\n",
       "      <td>20</td>\n",
       "      <td>CA</td>\n",
       "      <td>C</td>\n",
       "      <td>A</td>\n",
       "      <td>221.1</td>\n",
       "      <td>0.8</td>\n",
       "      <td>21.6</td>\n",
       "      <td>0.0</td>\n",
       "      <td>93.3</td>\n",
       "      <td>14.00</td>\n",
       "      <td>22.0</td>\n",
       "      <td>50000.0</td>\n",
       "      <td>4.0</td>\n",
       "    </tr>\n",
       "    <tr>\n",
       "      <th>1718047</th>\n",
       "      <td>J</td>\n",
       "      <td>8</td>\n",
       "      <td>20</td>\n",
       "      <td>0</td>\n",
       "      <td>30</td>\n",
       "      <td>CA</td>\n",
       "      <td>C</td>\n",
       "      <td>A</td>\n",
       "      <td>228.8</td>\n",
       "      <td>1.2</td>\n",
       "      <td>21.5</td>\n",
       "      <td>0.0</td>\n",
       "      <td>93.2</td>\n",
       "      <td>12.00</td>\n",
       "      <td>21.9</td>\n",
       "      <td>50000.0</td>\n",
       "      <td>4.0</td>\n",
       "    </tr>\n",
       "    <tr>\n",
       "      <th>2276999</th>\n",
       "      <td>K</td>\n",
       "      <td>4</td>\n",
       "      <td>8</td>\n",
       "      <td>15</td>\n",
       "      <td>20</td>\n",
       "      <td>AD</td>\n",
       "      <td>A</td>\n",
       "      <td>D</td>\n",
       "      <td>228.6</td>\n",
       "      <td>2.0</td>\n",
       "      <td>22.9</td>\n",
       "      <td>0.0</td>\n",
       "      <td>19.2</td>\n",
       "      <td>20.83</td>\n",
       "      <td>35.1</td>\n",
       "      <td>20000.0</td>\n",
       "      <td>4.0</td>\n",
       "    </tr>\n",
       "    <tr>\n",
       "      <th>2532439</th>\n",
       "      <td>K</td>\n",
       "      <td>2</td>\n",
       "      <td>16</td>\n",
       "      <td>12</td>\n",
       "      <td>40</td>\n",
       "      <td>BA</td>\n",
       "      <td>B</td>\n",
       "      <td>A</td>\n",
       "      <td>294.2</td>\n",
       "      <td>6.1</td>\n",
       "      <td>-3.5</td>\n",
       "      <td>0.0</td>\n",
       "      <td>29.5</td>\n",
       "      <td>8.96</td>\n",
       "      <td>-0.8</td>\n",
       "      <td>48400.0</td>\n",
       "      <td>4.0</td>\n",
       "    </tr>\n",
       "    <tr>\n",
       "      <th>2592053</th>\n",
       "      <td>K</td>\n",
       "      <td>4</td>\n",
       "      <td>6</td>\n",
       "      <td>12</td>\n",
       "      <td>20</td>\n",
       "      <td>BB</td>\n",
       "      <td>B</td>\n",
       "      <td>B</td>\n",
       "      <td>246.3</td>\n",
       "      <td>4.7</td>\n",
       "      <td>17.0</td>\n",
       "      <td>0.0</td>\n",
       "      <td>28.3</td>\n",
       "      <td>11.68</td>\n",
       "      <td>30.2</td>\n",
       "      <td>37868.0</td>\n",
       "      <td>4.0</td>\n",
       "    </tr>\n",
       "    <tr>\n",
       "      <th>3097358</th>\n",
       "      <td>K</td>\n",
       "      <td>11</td>\n",
       "      <td>16</td>\n",
       "      <td>13</td>\n",
       "      <td>50</td>\n",
       "      <td>EB</td>\n",
       "      <td>E</td>\n",
       "      <td>B</td>\n",
       "      <td>303.7</td>\n",
       "      <td>1.0</td>\n",
       "      <td>16.7</td>\n",
       "      <td>0.0</td>\n",
       "      <td>34.8</td>\n",
       "      <td>1.57</td>\n",
       "      <td>33.5</td>\n",
       "      <td>38393.0</td>\n",
       "      <td>4.0</td>\n",
       "    </tr>\n",
       "  </tbody>\n",
       "</table>\n",
       "</div>"
      ],
      "text/plain": [
       "        year  month  day  time  minute stn_id FirstLetter SecondLetter  \\\n",
       "904125     I      2   26    18      30     EA           E            A   \n",
       "1255059    J     10   28    19      50     AD           A            D   \n",
       "1494527    J      5   19    19      10     BA           B            A   \n",
       "1521613    J     11   23    21      30     BA           B            A   \n",
       "1718046    J      8   20     0      20     CA           C            A   \n",
       "1718047    J      8   20     0      30     CA           C            A   \n",
       "2276999    K      4    8    15      20     AD           A            D   \n",
       "2532439    K      2   16    12      40     BA           B            A   \n",
       "2592053    K      4    6    12      20     BB           B            B   \n",
       "3097358    K     11   16    13      50     EB           E            B   \n",
       "\n",
       "         ws10_deg  ws10_ms    ta   re    hm  sun10    ts     vis1  class  \n",
       "904125       79.9      2.9   9.8  0.0  76.7   9.63  10.3  19537.0    4.0  \n",
       "1255059      19.1      1.2  12.2  0.0  66.9  26.87   9.7  24294.0    4.0  \n",
       "1494527     135.1      0.8  21.7  0.0  66.4  14.98  22.2  31400.0    4.0  \n",
       "1521613     310.0      4.2   1.3  0.0  61.2   5.76   1.2  50000.0    4.0  \n",
       "1718046     221.1      0.8  21.6  0.0  93.3  14.00  22.0  50000.0    4.0  \n",
       "1718047     228.8      1.2  21.5  0.0  93.2  12.00  21.9  50000.0    4.0  \n",
       "2276999     228.6      2.0  22.9  0.0  19.2  20.83  35.1  20000.0    4.0  \n",
       "2532439     294.2      6.1  -3.5  0.0  29.5   8.96  -0.8  48400.0    4.0  \n",
       "2592053     246.3      4.7  17.0  0.0  28.3  11.68  30.2  37868.0    4.0  \n",
       "3097358     303.7      1.0  16.7  0.0  34.8   1.57  33.5  38393.0    4.0  "
      ]
     },
     "execution_count": 11,
     "metadata": {},
     "output_type": "execute_result"
    }
   ],
   "source": [
    "# 1. sun10의 값이 1 이상인 경우 결측치로 대체\n",
    "train_data.loc[train_data['sun10'] > 1]"
   ]
  },
  {
   "cell_type": "code",
   "execution_count": 12,
   "metadata": {},
   "outputs": [],
   "source": [
    "train_data.loc[train_data['sun10'] > 1, 'sun10'] = np.nan\n",
    "test_data.loc[test_data['sun10'] > 1, 'sun10'] = np.nan"
   ]
  },
  {
   "cell_type": "code",
   "execution_count": 13,
   "metadata": {},
   "outputs": [
    {
     "data": {
      "text/plain": [
       "15551      0.01\n",
       "17399      0.01\n",
       "17415      0.01\n",
       "17453      0.01\n",
       "17559      0.01\n",
       "           ... \n",
       "3129819    0.01\n",
       "3134417    0.01\n",
       "3139608    0.01\n",
       "3149392    0.01\n",
       "3151707    0.01\n",
       "Name: sun10, Length: 52436, dtype: float64"
      ]
     },
     "execution_count": 13,
     "metadata": {},
     "output_type": "execute_result"
    }
   ],
   "source": [
    "# 2. 야간(20:00 ~ 05:00)에 sun10의 값이 0이 아닌 경우 0으로 대체\n",
    "train_data['sun10'].loc[((train_data['time'] >= 20) | (train_data['time'] <= 4) | ((train_data['time'] == 5) & (train_data['minute'] == 0))) &\n",
    "                        (train_data['sun10'] > 0)]"
   ]
  },
  {
   "cell_type": "code",
   "execution_count": 14,
   "metadata": {},
   "outputs": [
    {
     "name": "stderr",
     "output_type": "stream",
     "text": [
      "C:\\Users\\JungHwan\\AppData\\Local\\Temp\\ipykernel_23680\\721074280.py:1: SettingWithCopyWarning: \n",
      "A value is trying to be set on a copy of a slice from a DataFrame\n",
      "\n",
      "See the caveats in the documentation: https://pandas.pydata.org/pandas-docs/stable/user_guide/indexing.html#returning-a-view-versus-a-copy\n",
      "  train_data['sun10'].loc[((train_data['time'] >= 20) | (train_data['time'] <= 4) | ((train_data['time'] == 5) & (train_data['minute'] == 0))) &\n",
      "C:\\Users\\JungHwan\\AppData\\Local\\Temp\\ipykernel_23680\\721074280.py:3: SettingWithCopyWarning: \n",
      "A value is trying to be set on a copy of a slice from a DataFrame\n",
      "\n",
      "See the caveats in the documentation: https://pandas.pydata.org/pandas-docs/stable/user_guide/indexing.html#returning-a-view-versus-a-copy\n",
      "  test_data['sun10'].loc[((test_data['time'] >= 20) | (test_data['time'] <= 4) | ((test_data['time'] == 5) & (test_data['minute'] == 0))) &\n"
     ]
    }
   ],
   "source": [
    "train_data['sun10'].loc[((train_data['time'] >= 20) | (train_data['time'] <= 4) | ((train_data['time'] == 5) & (train_data['minute'] == 0))) &\n",
    "                        (train_data['sun10'] > 0)] = 0.0\n",
    "test_data['sun10'].loc[((test_data['time'] >= 20) | (test_data['time'] <= 4) | ((test_data['time'] == 5) & (test_data['minute'] == 0))) &\n",
    "                       (test_data['sun10'] > 0)] = 0.0"
   ]
  },
  {
   "cell_type": "markdown",
   "metadata": {},
   "source": [
    "CA 지역의 sun10 결측치를 처리합니다.<br>\n",
    "CA 지역의 긴 구간에 결측치가 있는 것을 확인하여 동일 구간의 CB 지역의 sun10 값으로 대체했습니다."
   ]
  },
  {
   "cell_type": "code",
   "execution_count": 15,
   "metadata": {},
   "outputs": [
    {
     "name": "stdout",
     "output_type": "stream",
     "text": [
      "2770108\n",
      "2787369\n",
      "2822668\n",
      "2839929\n"
     ]
    }
   ],
   "source": [
    "# 확인한 구간의 시작과 끝 인덱스를 할당\n",
    "CA_start_idx = train_data.loc[(train_data['stn_id'] == \"CA\") & \n",
    "                              (train_data['year'] == 'K') & \n",
    "                              (train_data['month'] == 8) &\n",
    "                              (train_data['day'] == 26) &\n",
    "                              (train_data['time'] == 0) &\n",
    "                              (train_data['minute'] == 10)].index.values[0]\n",
    "CA_end_idx = train_data.loc[(train_data['stn_id'] == \"CA\") & \n",
    "                            (train_data['year'] == 'K') & \n",
    "                            (train_data['month'] == 12) &\n",
    "                            (train_data['day'] == 23) &\n",
    "                            (train_data['time'] == 21) &\n",
    "                            (train_data['minute'] == 0)].index.values[0]\n",
    "\n",
    "CB_start_idx = train_data.loc[(train_data['stn_id'] == \"CB\") & \n",
    "                              (train_data['year'] == 'K') & \n",
    "                              (train_data['month'] == 8) &\n",
    "                              (train_data['day'] == 26) &\n",
    "                              (train_data['time'] == 0) &\n",
    "                              (train_data['minute'] == 10)].index.values[0]\n",
    "CB_end_idx = train_data.loc[(train_data['stn_id'] == \"CB\") & \n",
    "                            (train_data['year'] == 'K') & \n",
    "                            (train_data['month'] == 12) &\n",
    "                            (train_data['day'] == 23) &\n",
    "                            (train_data['time'] == 21) &\n",
    "                            (train_data['minute'] == 0)].index.values[0]\n",
    "print(CA_start_idx)\n",
    "print(CA_end_idx)\n",
    "print(CB_start_idx)\n",
    "print(CB_end_idx)"
   ]
  },
  {
   "cell_type": "code",
   "execution_count": 16,
   "metadata": {},
   "outputs": [
    {
     "name": "stdout",
     "output_type": "stream",
     "text": [
      "52560\n",
      "52560\n"
     ]
    }
   ],
   "source": [
    "# CA, CB 지역의 시작 지점의 차이로 간격 계산\n",
    "interval = CB_start_idx - CA_start_idx\n",
    "print(CB_start_idx - CA_start_idx)\n",
    "print(CB_end_idx - CA_end_idx)"
   ]
  },
  {
   "cell_type": "code",
   "execution_count": 17,
   "metadata": {},
   "outputs": [
    {
     "name": "stderr",
     "output_type": "stream",
     "text": [
      "C:\\Users\\JungHwan\\AppData\\Local\\Temp\\ipykernel_23680\\2971880237.py:6: SettingWithCopyWarning: \n",
      "A value is trying to be set on a copy of a slice from a DataFrame\n",
      "\n",
      "See the caveats in the documentation: https://pandas.pydata.org/pandas-docs/stable/user_guide/indexing.html#returning-a-view-versus-a-copy\n",
      "  train_data['sun10'].iloc[ca_i] = train_data['sun10'].iloc[ca_i + interval]\n"
     ]
    },
    {
     "data": {
      "text/plain": [
       "140"
      ]
     },
     "execution_count": 17,
     "metadata": {},
     "output_type": "execute_result"
    }
   ],
   "source": [
    "# CA의 인덱스 및 간격을 사용하여 CB 지역의 sun10 값 할당\n",
    "# CA가 결측치가 아닌 경우 CA의 sun10값으로 유지\n",
    "train_na = train_data['sun10'].isna()\n",
    "for ca_i in range(CA_start_idx, CA_end_idx + 1, 1):\n",
    "    if train_na.iloc[ca_i] == True:\n",
    "        train_data['sun10'].iloc[ca_i] = train_data['sun10'].iloc[ca_i + interval]\n",
    "sum(train_data['sun10'].iloc[CA_start_idx: CA_end_idx + 1].isna())        "
   ]
  },
  {
   "cell_type": "markdown",
   "metadata": {},
   "source": [
    "R을 사용한 전처리를 위해 데이터를 저장합니다."
   ]
  },
  {
   "cell_type": "code",
   "execution_count": 18,
   "metadata": {},
   "outputs": [],
   "source": [
    "train_data.to_csv('../data/train_prepro.csv', index = False)\n",
    "test_data.to_csv('../data/test_prepro.csv', index = False)"
   ]
  }
 ],
 "metadata": {
  "kernelspec": {
   "display_name": "Python 3 (ipykernel)",
   "language": "python",
   "name": "python3"
  },
  "language_info": {
   "codemirror_mode": {
    "name": "ipython",
    "version": 3
   },
   "file_extension": ".py",
   "mimetype": "text/x-python",
   "name": "python",
   "nbconvert_exporter": "python",
   "pygments_lexer": "ipython3",
   "version": "3.9.13"
  }
 },
 "nbformat": 4,
 "nbformat_minor": 2
}
